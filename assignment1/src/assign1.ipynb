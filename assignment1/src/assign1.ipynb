{
 "metadata": {
  "name": "assign1"
 },
 "nbformat": 3,
 "nbformat_minor": 0,
 "worksheets": [
  {
   "cells": [
    {
     "cell_type": "code",
     "collapsed": false,
     "input": [
      "import pandas as pd"
     ],
     "language": "python",
     "metadata": {},
     "outputs": [],
     "prompt_number": 2
    },
    {
     "cell_type": "code",
     "collapsed": false,
     "input": [
      "loans = pd.read_csv('loansData.csv')"
     ],
     "language": "python",
     "metadata": {},
     "outputs": [],
     "prompt_number": 3
    },
    {
     "cell_type": "code",
     "collapsed": false,
     "input": [
      "loans.head()"
     ],
     "language": "python",
     "metadata": {},
     "outputs": [
      {
       "html": [
        "<div style=\"max-height:1000px;max-width:1500px;overflow:auto;\">\n",
        "<table border=\"1\" class=\"dataframe\">\n",
        "  <thead>\n",
        "    <tr style=\"text-align: right;\">\n",
        "      <th></th>\n",
        "      <th>Amount.Requested</th>\n",
        "      <th>Amount.Funded.By.Investors</th>\n",
        "      <th>Interest.Rate</th>\n",
        "      <th>Loan.Length</th>\n",
        "      <th>Loan.Purpose</th>\n",
        "      <th>Debt.To.Income.Ratio</th>\n",
        "      <th>State</th>\n",
        "      <th>Home.Ownership</th>\n",
        "      <th>Monthly.Income</th>\n",
        "      <th>FICO.Range</th>\n",
        "      <th>Open.CREDIT.Lines</th>\n",
        "      <th>Revolving.CREDIT.Balance</th>\n",
        "      <th>Inquiries.in.the.Last.6.Months</th>\n",
        "      <th>Employment.Length</th>\n",
        "    </tr>\n",
        "  </thead>\n",
        "  <tbody>\n",
        "    <tr>\n",
        "      <th>81174</th>\n",
        "      <td> 20000</td>\n",
        "      <td> 20000</td>\n",
        "      <td>  8.90%</td>\n",
        "      <td> 36 months</td>\n",
        "      <td> debt_consolidation</td>\n",
        "      <td> 14.90%</td>\n",
        "      <td> SC</td>\n",
        "      <td> MORTGAGE</td>\n",
        "      <td>  6541.67</td>\n",
        "      <td> 735-739</td>\n",
        "      <td> 14</td>\n",
        "      <td> 14272</td>\n",
        "      <td> 2</td>\n",
        "      <td> &lt; 1 year</td>\n",
        "    </tr>\n",
        "    <tr>\n",
        "      <th>99592</th>\n",
        "      <td> 19200</td>\n",
        "      <td> 19200</td>\n",
        "      <td> 12.12%</td>\n",
        "      <td> 36 months</td>\n",
        "      <td> debt_consolidation</td>\n",
        "      <td> 28.36%</td>\n",
        "      <td> TX</td>\n",
        "      <td> MORTGAGE</td>\n",
        "      <td>  4583.33</td>\n",
        "      <td> 715-719</td>\n",
        "      <td> 12</td>\n",
        "      <td> 11140</td>\n",
        "      <td> 1</td>\n",
        "      <td>  2 years</td>\n",
        "    </tr>\n",
        "    <tr>\n",
        "      <th>80059</th>\n",
        "      <td> 35000</td>\n",
        "      <td> 35000</td>\n",
        "      <td> 21.98%</td>\n",
        "      <td> 60 months</td>\n",
        "      <td> debt_consolidation</td>\n",
        "      <td> 23.81%</td>\n",
        "      <td> CA</td>\n",
        "      <td> MORTGAGE</td>\n",
        "      <td> 11500.00</td>\n",
        "      <td> 690-694</td>\n",
        "      <td> 14</td>\n",
        "      <td> 21977</td>\n",
        "      <td> 1</td>\n",
        "      <td>  2 years</td>\n",
        "    </tr>\n",
        "    <tr>\n",
        "      <th>15825</th>\n",
        "      <td> 10000</td>\n",
        "      <td>  9975</td>\n",
        "      <td>  9.99%</td>\n",
        "      <td> 36 months</td>\n",
        "      <td> debt_consolidation</td>\n",
        "      <td> 14.30%</td>\n",
        "      <td> KS</td>\n",
        "      <td> MORTGAGE</td>\n",
        "      <td>  3833.33</td>\n",
        "      <td> 695-699</td>\n",
        "      <td> 10</td>\n",
        "      <td>  9346</td>\n",
        "      <td> 0</td>\n",
        "      <td>  5 years</td>\n",
        "    </tr>\n",
        "    <tr>\n",
        "      <th>33182</th>\n",
        "      <td> 12000</td>\n",
        "      <td> 12000</td>\n",
        "      <td> 11.71%</td>\n",
        "      <td> 36 months</td>\n",
        "      <td>        credit_card</td>\n",
        "      <td> 18.78%</td>\n",
        "      <td> NJ</td>\n",
        "      <td>     RENT</td>\n",
        "      <td>  3195.00</td>\n",
        "      <td> 695-699</td>\n",
        "      <td> 11</td>\n",
        "      <td> 14469</td>\n",
        "      <td> 0</td>\n",
        "      <td>  9 years</td>\n",
        "    </tr>\n",
        "  </tbody>\n",
        "</table>\n",
        "</div>"
       ],
       "output_type": "pyout",
       "prompt_number": 5,
       "text": [
        "       Amount.Requested  Amount.Funded.By.Investors Interest.Rate Loan.Length  \\\n",
        "81174             20000                       20000         8.90%   36 months   \n",
        "99592             19200                       19200        12.12%   36 months   \n",
        "80059             35000                       35000        21.98%   60 months   \n",
        "15825             10000                        9975         9.99%   36 months   \n",
        "33182             12000                       12000        11.71%   36 months   \n",
        "\n",
        "             Loan.Purpose Debt.To.Income.Ratio State Home.Ownership  Monthly.Income  \\\n",
        "81174  debt_consolidation               14.90%    SC       MORTGAGE         6541.67   \n",
        "99592  debt_consolidation               28.36%    TX       MORTGAGE         4583.33   \n",
        "80059  debt_consolidation               23.81%    CA       MORTGAGE        11500.00   \n",
        "15825  debt_consolidation               14.30%    KS       MORTGAGE         3833.33   \n",
        "33182         credit_card               18.78%    NJ           RENT         3195.00   \n",
        "\n",
        "      FICO.Range  Open.CREDIT.Lines  Revolving.CREDIT.Balance  \\\n",
        "81174    735-739                 14                     14272   \n",
        "99592    715-719                 12                     11140   \n",
        "80059    690-694                 14                     21977   \n",
        "15825    695-699                 10                      9346   \n",
        "33182    695-699                 11                     14469   \n",
        "\n",
        "       Inquiries.in.the.Last.6.Months Employment.Length  \n",
        "81174                               2          < 1 year  \n",
        "99592                               1           2 years  \n",
        "80059                               1           2 years  \n",
        "15825                               0           5 years  \n",
        "33182                               0           9 years  "
       ]
      }
     ],
     "prompt_number": 5
    },
    {
     "cell_type": "code",
     "collapsed": false,
     "input": [
      "loans.dtypes"
     ],
     "language": "python",
     "metadata": {},
     "outputs": [
      {
       "output_type": "pyout",
       "prompt_number": 6,
       "text": [
        "Amount.Requested                    int64\n",
        "Amount.Funded.By.Investors        float64\n",
        "Interest.Rate                      object\n",
        "Loan.Length                        object\n",
        "Loan.Purpose                       object\n",
        "Debt.To.Income.Ratio               object\n",
        "State                              object\n",
        "Home.Ownership                     object\n",
        "Monthly.Income                    float64\n",
        "FICO.Range                         object\n",
        "Open.CREDIT.Lines                 float64\n",
        "Revolving.CREDIT.Balance          float64\n",
        "Inquiries.in.the.Last.6.Months    float64\n",
        "Employment.Length                  object"
       ]
      }
     ],
     "prompt_number": 6
    },
    {
     "cell_type": "code",
     "collapsed": false,
     "input": [
      "percent = lambda x: float(x.split('%'))\n",
      "loans['Interest.Rate'].apply(percent)"
     ],
     "language": "python",
     "metadata": {},
     "outputs": [
      {
       "ename": "TypeError",
       "evalue": "float() argument must be a string or a number",
       "output_type": "pyerr",
       "traceback": [
        "\u001b[1;31m---------------------------------------------------------------------------\u001b[0m\n\u001b[1;31mTypeError\u001b[0m                                 Traceback (most recent call last)",
        "\u001b[1;32m<ipython-input-8-bec585cee3cc>\u001b[0m in \u001b[0;36m<module>\u001b[1;34m()\u001b[0m\n\u001b[0;32m      1\u001b[0m \u001b[0mpercent\u001b[0m \u001b[1;33m=\u001b[0m \u001b[1;32mlambda\u001b[0m \u001b[0mx\u001b[0m\u001b[1;33m:\u001b[0m \u001b[0mfloat\u001b[0m\u001b[1;33m(\u001b[0m\u001b[0mx\u001b[0m\u001b[1;33m.\u001b[0m\u001b[0msplit\u001b[0m\u001b[1;33m(\u001b[0m\u001b[1;34m'%'\u001b[0m\u001b[1;33m)\u001b[0m\u001b[1;33m)\u001b[0m\u001b[1;33m\u001b[0m\u001b[0m\n\u001b[1;32m----> 2\u001b[1;33m \u001b[0mloans\u001b[0m\u001b[1;33m[\u001b[0m\u001b[1;34m'Interest.Rate'\u001b[0m\u001b[1;33m]\u001b[0m\u001b[1;33m.\u001b[0m\u001b[0mapply\u001b[0m\u001b[1;33m(\u001b[0m\u001b[0mpercent\u001b[0m\u001b[1;33m)\u001b[0m\u001b[1;33m\u001b[0m\u001b[0m\n\u001b[0m",
        "\u001b[1;32m/home/dfrodriguez/anaconda/lib/python2.7/site-packages/pandas/core/series.pyc\u001b[0m in \u001b[0;36mapply\u001b[1;34m(self, func, convert_dtype, args, **kwds)\u001b[0m\n\u001b[0;32m   2294\u001b[0m             \u001b[0mvalues\u001b[0m \u001b[1;33m=\u001b[0m \u001b[0mlib\u001b[0m\u001b[1;33m.\u001b[0m\u001b[0mmap_infer\u001b[0m\u001b[1;33m(\u001b[0m\u001b[0mvalues\u001b[0m\u001b[1;33m,\u001b[0m \u001b[0mlib\u001b[0m\u001b[1;33m.\u001b[0m\u001b[0mTimestamp\u001b[0m\u001b[1;33m)\u001b[0m\u001b[1;33m\u001b[0m\u001b[0m\n\u001b[0;32m   2295\u001b[0m \u001b[1;33m\u001b[0m\u001b[0m\n\u001b[1;32m-> 2296\u001b[1;33m         \u001b[0mmapped\u001b[0m \u001b[1;33m=\u001b[0m \u001b[0mlib\u001b[0m\u001b[1;33m.\u001b[0m\u001b[0mmap_infer\u001b[0m\u001b[1;33m(\u001b[0m\u001b[0mvalues\u001b[0m\u001b[1;33m,\u001b[0m \u001b[0mf\u001b[0m\u001b[1;33m,\u001b[0m \u001b[0mconvert\u001b[0m\u001b[1;33m=\u001b[0m\u001b[0mconvert_dtype\u001b[0m\u001b[1;33m)\u001b[0m\u001b[1;33m\u001b[0m\u001b[0m\n\u001b[0m\u001b[0;32m   2297\u001b[0m         \u001b[1;32mif\u001b[0m \u001b[0misinstance\u001b[0m\u001b[1;33m(\u001b[0m\u001b[0mmapped\u001b[0m\u001b[1;33m[\u001b[0m\u001b[1;36m0\u001b[0m\u001b[1;33m]\u001b[0m\u001b[1;33m,\u001b[0m \u001b[0mSeries\u001b[0m\u001b[1;33m)\u001b[0m\u001b[1;33m:\u001b[0m\u001b[1;33m\u001b[0m\u001b[0m\n\u001b[0;32m   2298\u001b[0m             \u001b[1;32mfrom\u001b[0m \u001b[0mpandas\u001b[0m\u001b[1;33m.\u001b[0m\u001b[0mcore\u001b[0m\u001b[1;33m.\u001b[0m\u001b[0mframe\u001b[0m \u001b[1;32mimport\u001b[0m \u001b[0mDataFrame\u001b[0m\u001b[1;33m\u001b[0m\u001b[0m\n",
        "\u001b[1;32m/home/dfrodriguez/anaconda/lib/python2.7/site-packages/pandas/lib.so\u001b[0m in \u001b[0;36mpandas.lib.map_infer (pandas/lib.c:39944)\u001b[1;34m()\u001b[0m\n",
        "\u001b[1;32m<ipython-input-8-bec585cee3cc>\u001b[0m in \u001b[0;36m<lambda>\u001b[1;34m(x)\u001b[0m\n\u001b[1;32m----> 1\u001b[1;33m \u001b[0mpercent\u001b[0m \u001b[1;33m=\u001b[0m \u001b[1;32mlambda\u001b[0m \u001b[0mx\u001b[0m\u001b[1;33m:\u001b[0m \u001b[0mfloat\u001b[0m\u001b[1;33m(\u001b[0m\u001b[0mx\u001b[0m\u001b[1;33m.\u001b[0m\u001b[0msplit\u001b[0m\u001b[1;33m(\u001b[0m\u001b[1;34m'%'\u001b[0m\u001b[1;33m)\u001b[0m\u001b[1;33m)\u001b[0m\u001b[1;33m\u001b[0m\u001b[0m\n\u001b[0m\u001b[0;32m      2\u001b[0m \u001b[0mloans\u001b[0m\u001b[1;33m[\u001b[0m\u001b[1;34m'Interest.Rate'\u001b[0m\u001b[1;33m]\u001b[0m\u001b[1;33m.\u001b[0m\u001b[0mapply\u001b[0m\u001b[1;33m(\u001b[0m\u001b[0mpercent\u001b[0m\u001b[1;33m)\u001b[0m\u001b[1;33m\u001b[0m\u001b[0m\n",
        "\u001b[1;31mTypeError\u001b[0m: float() argument must be a string or a number"
       ]
      }
     ],
     "prompt_number": 8
    }
   ],
   "metadata": {}
  }
 ]
}