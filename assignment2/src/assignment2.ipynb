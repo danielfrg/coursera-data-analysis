{
 "metadata": {
  "name": "assignment2"
 },
 "nbformat": 3,
 "nbformat_minor": 0,
 "worksheets": [
  {
   "cells": [
    {
     "cell_type": "code",
     "collapsed": false,
     "input": [
      "import copper\n",
      "import numpy as np\n",
      "import pandas as pd"
     ],
     "language": "python",
     "metadata": {},
     "outputs": [],
     "prompt_number": 32
    },
    {
     "cell_type": "code",
     "collapsed": false,
     "input": [
      "copper.project.path = '..'"
     ],
     "language": "python",
     "metadata": {},
     "outputs": [],
     "prompt_number": 2
    },
    {
     "cell_type": "code",
     "collapsed": false,
     "input": [
      "data = copper.read_csv('samsungData.csv')"
     ],
     "language": "python",
     "metadata": {},
     "outputs": [],
     "prompt_number": 3
    },
    {
     "cell_type": "code",
     "collapsed": false,
     "input": [
      "data"
     ],
     "language": "python",
     "metadata": {},
     "outputs": [
      {
       "output_type": "pyout",
       "prompt_number": 5,
       "text": [
        "<class 'pandas.core.frame.DataFrame'>\n",
        "Int64Index: 7352 entries, 0 to 7351\n",
        "Columns: 564 entries, subject to activity\n",
        "dtypes: float64(561), int64(2), object(1)"
       ]
      }
     ],
     "prompt_number": 5
    },
    {
     "cell_type": "code",
     "collapsed": false,
     "input": [
      "set(data['activity'])"
     ],
     "language": "python",
     "metadata": {},
     "outputs": [
      {
       "output_type": "pyout",
       "prompt_number": 227,
       "text": [
        "set(['standing', 'walkdown', 'sitting', 'walkup', 'laying', 'walk'])"
       ]
      }
     ],
     "prompt_number": 227
    },
    {
     "cell_type": "code",
     "collapsed": false,
     "input": [
      "train = data[data['subject.1'] < 27]\n",
      "test = data[data['subject.1'] >= 27]"
     ],
     "language": "python",
     "metadata": {},
     "outputs": [],
     "prompt_number": 228
    },
    {
     "cell_type": "code",
     "collapsed": false,
     "input": [
      "train = copper.Dataset(train)\n",
      "test = copper.Dataset(test)"
     ],
     "language": "python",
     "metadata": {},
     "outputs": [],
     "prompt_number": 229
    },
    {
     "cell_type": "code",
     "collapsed": false,
     "input": [
      "len(train), len(test)"
     ],
     "language": "python",
     "metadata": {},
     "outputs": [
      {
       "output_type": "pyout",
       "prompt_number": 230,
       "text": [
        "(5867, 1485)"
       ]
      }
     ],
     "prompt_number": 230
    },
    {
     "cell_type": "code",
     "collapsed": false,
     "input": [
      "train.role[:] = train.REJECTED\n",
      "test.role[:] = test.REJECTED"
     ],
     "language": "python",
     "metadata": {},
     "outputs": [],
     "prompt_number": 809
    },
    {
     "cell_type": "code",
     "collapsed": false,
     "input": [
      "train.role[1:7] = train.INPUT\n",
      "test.role[1:7] = test.INPUT"
     ],
     "language": "python",
     "metadata": {},
     "outputs": [],
     "prompt_number": 810
    },
    {
     "cell_type": "code",
     "collapsed": false,
     "input": [
      "train.role[121:127] = train.INPUT\n",
      "test.role[121:127] = train.INPUT"
     ],
     "language": "python",
     "metadata": {},
     "outputs": [],
     "prompt_number": 811
    },
    {
     "cell_type": "code",
     "collapsed": false,
     "input": [
      "train.role[41:47] = train.INPUT\n",
      "test.role[41:47] = test.INPUT"
     ],
     "language": "python",
     "metadata": {},
     "outputs": [],
     "prompt_number": 812
    },
    {
     "cell_type": "code",
     "collapsed": false,
     "input": [
      "train.role[161:167] = train.INPUT\n",
      "test.role[161:167] = test.INPUT"
     ],
     "language": "python",
     "metadata": {},
     "outputs": [],
     "prompt_number": 813
    },
    {
     "cell_type": "code",
     "collapsed": false,
     "input": [
      "train.role[177:180] = train.INPUT\n",
      "test.role[177:180] = test.INPUT"
     ],
     "language": "python",
     "metadata": {},
     "outputs": [],
     "prompt_number": 701
    },
    {
     "cell_type": "code",
     "collapsed": false,
     "input": [
      "train.role['subject'] = train.ID\n",
      "test.role['subject'] = test.ID\n",
      "train.role['subject.1'] = train.ID\n",
      "test.role['subject.1'] = test.ID"
     ],
     "language": "python",
     "metadata": {},
     "outputs": [],
     "prompt_number": 814
    },
    {
     "cell_type": "code",
     "collapsed": false,
     "input": [
      "train.role['activity'] = train.TARGET\n",
      "test.role['activity'] = test.TARGET"
     ],
     "language": "python",
     "metadata": {},
     "outputs": [],
     "prompt_number": 815
    },
    {
     "cell_type": "code",
     "collapsed": false,
     "input": [
      "len(train.filter(role=['Input']).columns)"
     ],
     "language": "python",
     "metadata": {},
     "outputs": [
      {
       "output_type": "pyout",
       "prompt_number": 816,
       "text": [
        "24"
       ]
      }
     ],
     "prompt_number": 816
    },
    {
     "cell_type": "code",
     "collapsed": false,
     "input": [
      "ml = copper.MachineLearning()\n",
      "ml.set_train(train)\n",
      "ml.set_test(test)"
     ],
     "language": "python",
     "metadata": {},
     "outputs": [],
     "prompt_number": 817
    },
    {
     "cell_type": "code",
     "collapsed": false,
     "input": [
      "from sklearn import tree\n",
      "tree_clf = tree.DecisionTreeClassifier(max_depth=10)"
     ],
     "language": "python",
     "metadata": {},
     "outputs": [],
     "prompt_number": 818
    },
    {
     "cell_type": "code",
     "collapsed": false,
     "input": [
      "ml.add_clf(tree_clf, 'Tree')"
     ],
     "language": "python",
     "metadata": {},
     "outputs": [],
     "prompt_number": 819
    },
    {
     "cell_type": "code",
     "collapsed": false,
     "input": [
      "from PyWiseRF import WiseRF\n",
      "rf = WiseRF(n_estimators=10)"
     ],
     "language": "python",
     "metadata": {},
     "outputs": [],
     "prompt_number": 820
    },
    {
     "cell_type": "code",
     "collapsed": false,
     "input": [
      "ml.add_clf(rf, 'rf')"
     ],
     "language": "python",
     "metadata": {},
     "outputs": [],
     "prompt_number": 821
    },
    {
     "cell_type": "code",
     "collapsed": false,
     "input": [
      "ml.fit()"
     ],
     "language": "python",
     "metadata": {},
     "outputs": [],
     "prompt_number": 822
    },
    {
     "cell_type": "code",
     "collapsed": false,
     "input": [
      "ml.accuracy()"
     ],
     "language": "python",
     "metadata": {},
     "outputs": [
      {
       "output_type": "pyout",
       "prompt_number": 823,
       "text": [
        "rf      0.903704\n",
        "Tree    0.874747\n",
        "Name: Accuracy"
       ]
      }
     ],
     "prompt_number": 823
    },
    {
     "cell_type": "code",
     "collapsed": false,
     "input": [
      "ml.plot_cm('rf')"
     ],
     "language": "python",
     "metadata": {},
     "outputs": [
      {
       "output_type": "display_data",
       "png": "[encoded data removed]"
      }
     ],
     "prompt_number": 829
    },
    {
     "cell_type": "code",
     "collapsed": false,
     "input": [
      "ml.cm_table()"
     ],
     "language": "python",
     "metadata": {},
     "outputs": [
      {
       "html": [
        "<div style=\"max-height:1000px;max-width:1500px;overflow:auto;\">\n",
        "<table border=\"1\" class=\"dataframe\">\n",
        "  <thead>\n",
        "    <tr style=\"text-align: right;\">\n",
        "      <th></th>\n",
        "      <th>Predicted 0's</th>\n",
        "      <th>Correct 0's</th>\n",
        "      <th>Rate 0's</th>\n",
        "      <th>Predicted 1's</th>\n",
        "      <th>Correct 1's</th>\n",
        "      <th>Rate 1's</th>\n",
        "      <th>Predicted 2's</th>\n",
        "      <th>Correct 2's</th>\n",
        "      <th>Rate 2's</th>\n",
        "      <th>Predicted 3's</th>\n",
        "      <th>Correct 3's</th>\n",
        "      <th>Rate 3's</th>\n",
        "      <th>Predicted 4's</th>\n",
        "      <th>Correct 4's</th>\n",
        "      <th>Rate 4's</th>\n",
        "      <th>Predicted 5's</th>\n",
        "      <th>Correct 5's</th>\n",
        "      <th>Rate 5's</th>\n",
        "    </tr>\n",
        "  </thead>\n",
        "  <tbody>\n",
        "    <tr>\n",
        "      <th>rf</th>\n",
        "      <td> 293</td>\n",
        "      <td> 293</td>\n",
        "      <td> 1</td>\n",
        "      <td> 267</td>\n",
        "      <td> 231</td>\n",
        "      <td> 0.8651685</td>\n",
        "      <td> 280</td>\n",
        "      <td> 247</td>\n",
        "      <td> 0.8821429</td>\n",
        "      <td> 231</td>\n",
        "      <td> 209</td>\n",
        "      <td> 0.9047619</td>\n",
        "      <td> 209</td>\n",
        "      <td> 179</td>\n",
        "      <td> 0.8564593</td>\n",
        "      <td> 205</td>\n",
        "      <td> 183</td>\n",
        "      <td> 0.8926829</td>\n",
        "    </tr>\n",
        "    <tr>\n",
        "      <th>Tree</th>\n",
        "      <td> 293</td>\n",
        "      <td> 293</td>\n",
        "      <td> 1</td>\n",
        "      <td> 248</td>\n",
        "      <td> 222</td>\n",
        "      <td> 0.8951613</td>\n",
        "      <td> 299</td>\n",
        "      <td> 257</td>\n",
        "      <td> 0.8595318</td>\n",
        "      <td> 233</td>\n",
        "      <td> 195</td>\n",
        "      <td> 0.8369099</td>\n",
        "      <td> 179</td>\n",
        "      <td> 155</td>\n",
        "      <td> 0.8659218</td>\n",
        "      <td> 233</td>\n",
        "      <td> 177</td>\n",
        "      <td> 0.7596567</td>\n",
        "    </tr>\n",
        "  </tbody>\n",
        "</table>\n",
        "</div>"
       ],
       "output_type": "pyout",
       "prompt_number": 825,
       "text": [
        "     Predicted 0's Correct 0's Rate 0's Predicted 1's Correct 1's   Rate 1's  \\\n",
        "rf             293         293        1           267         231  0.8651685   \n",
        "Tree           293         293        1           248         222  0.8951613   \n",
        "\n",
        "     Predicted 2's Correct 2's   Rate 2's Predicted 3's Correct 3's   Rate 3's  \\\n",
        "rf             280         247  0.8821429           231         209  0.9047619   \n",
        "Tree           299         257  0.8595318           233         195  0.8369099   \n",
        "\n",
        "     Predicted 4's Correct 4's   Rate 4's Predicted 5's Correct 5's   Rate 5's  \n",
        "rf             209         179  0.8564593           205         183  0.8926829  \n",
        "Tree           179         155  0.8659218           233         177  0.7596567  "
       ]
      }
     ],
     "prompt_number": 825
    },
    {
     "cell_type": "code",
     "collapsed": false,
     "input": [
      "ml.predict()"
     ],
     "language": "python",
     "metadata": {},
     "outputs": [
      {
       "output_type": "pyout",
       "prompt_number": 414,
       "text": [
        "<class 'pandas.core.frame.DataFrame'>\n",
        "Int64Index: 1485 entries, 0 to 1484\n",
        "Data columns:\n",
        "rf      1485  non-null values\n",
        "Tree    1485  non-null values\n",
        "dtypes: object(2)"
       ]
      }
     ],
     "prompt_number": 414
    },
    {
     "cell_type": "code",
     "collapsed": false,
     "input": [
      "from sklearn.metrics import mean_squared_error"
     ],
     "language": "python",
     "metadata": {},
     "outputs": [],
     "prompt_number": 415
    },
    {
     "cell_type": "code",
     "collapsed": false,
     "input": [
      "mean_squared_error(test.target.values, ml.predict()['rf'].values)"
     ],
     "language": "python",
     "metadata": {},
     "outputs": [
      {
       "output_type": "pyout",
       "prompt_number": 826,
       "text": [
        "0.14276094276094276"
       ]
      }
     ],
     "prompt_number": 826
    },
    {
     "cell_type": "code",
     "collapsed": false,
     "input": [
      "mean_squared_error(test.target.values, ml.predict()['Tree'].values)"
     ],
     "language": "python",
     "metadata": {},
     "outputs": [
      {
       "output_type": "pyout",
       "prompt_number": 827,
       "text": [
        "0.22424242424242424"
       ]
      }
     ],
     "prompt_number": 827
    },
    {
     "cell_type": "code",
     "collapsed": false,
     "input": [],
     "language": "python",
     "metadata": {},
     "outputs": []
    }
   ],
   "metadata": {}
  }
 ]
}